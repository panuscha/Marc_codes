{
 "cells": [
  {
   "cell_type": "code",
   "execution_count": 15,
   "metadata": {},
   "outputs": [],
   "source": [
    "import pandas as pd"
   ]
  },
  {
   "cell_type": "code",
   "execution_count": 16,
   "metadata": {},
   "outputs": [],
   "source": [
    "clb = pd.read_excel('data/freq_all.xlsx')\n",
    "nk = pd.read_excel('data/periodika_nk2.xlsx')"
   ]
  },
  {
   "cell_type": "code",
   "execution_count": 17,
   "metadata": {},
   "outputs": [],
   "source": [
    "issn_nk = pd.Index(nk.issn.unique())\n",
    "issn_clb = pd.Index(clb.issn.unique())\n",
    "\n",
    "inter_issn = issn_nk.intersection(issn_clb)\n",
    "\n",
    "title_nk = pd.Index(nk.title.unique())\n",
    "title_clb = pd.Index(clb.title.unique())\n",
    "\n",
    "inter_title = title_clb.intersection(title_nk)"
   ]
  },
  {
   "cell_type": "code",
   "execution_count": 18,
   "metadata": {},
   "outputs": [
    {
     "name": "stdout",
     "output_type": "stream",
     "text": [
      "586\n",
      "Index(['Lidové noviny', 'Česká literatura', 'Vlastivědný věstník moravský',\n",
      "       'Slovo a slovesnost', 'Naše řeč', 'Duha', 'Rudé právo', 'Kultura', 'A2',\n",
      "       'Filosofický časopis',\n",
      "       ...\n",
      "       'Bohemia, ein Unterhaltungsblatt', 'Moravsko-slezská revue',\n",
      "       'Lidová knihovna', 'Česko-bratrský hlasatel', 'Reflektor',\n",
      "       'Prager Abend-Blatt', 'Plzeňské listy', 'Almanach', 'Brünner Zeitung',\n",
      "       'Česká stráž'],\n",
      "      dtype='object', length=586)\n"
     ]
    }
   ],
   "source": [
    "print(len(inter_title))\n",
    "print(inter_title)"
   ]
  },
  {
   "cell_type": "code",
   "execution_count": 19,
   "metadata": {},
   "outputs": [],
   "source": [
    "df = nk[~nk.issn.isna()].merge(clb[~clb.issn.isna()], how='inner', on='issn')\n",
    "df2 = nk[nk.issn.isna()].merge(clb[clb.issn.isna()], how='inner', on='title')\n",
    "df3 = nk[~nk.issn.isna()].merge(clb[clb.issn.isna()], how='inner', on='title')\n",
    "df4 = nk[nk.issn.isna()].merge(clb[~clb.issn.isna()], how='inner', on='title')"
   ]
  },
  {
   "cell_type": "code",
   "execution_count": 20,
   "metadata": {},
   "outputs": [],
   "source": [
    "df_merge = pd.concat([df, df2, df3, df4], axis=0)"
   ]
  },
  {
   "cell_type": "code",
   "execution_count": 25,
   "metadata": {},
   "outputs": [
    {
     "name": "stdout",
     "output_type": "stream",
     "text": [
      "     Unnamed: 0_x             001           title_x       issn  \\\n",
      "0               4       000122168             Mosty  1335-6135   \n",
      "1              65  cps19950356122             Akord  0862-6715   \n",
      "2              67  cps19950356130            Reflex  0862-6634   \n",
      "3              68  cps19950356130            Reflex  0862-6634   \n",
      "4              69  cps19950356140  Literární noviny  1210-0021   \n",
      "..            ...             ...               ...        ...   \n",
      "117          8652  cps20172942298               NaN        NaN   \n",
      "118          8794   vkol001035069               NaN        NaN   \n",
      "119          8860       000181291               NaN        NaN   \n",
      "120          8921  cps20193098423               NaN        NaN   \n",
      "121          9473    nos190255395               NaN        NaN   \n",
      "\n",
      "                                                  link  \\\n",
      "0    http://krameriusndk.nkp.cz/search/handle/uuid:...   \n",
      "1    http://krameriusndk.nkp.cz/search/handle/uuid:...   \n",
      "2    http://krameriusndk.nkp.cz/search/handle/uuid:...   \n",
      "3    http://krameriusndk.mzk.cz/search/handle/uuid:...   \n",
      "4    http://krameriusndk.nkp.cz/search/handle/uuid:...   \n",
      "..                                                 ...   \n",
      "117  https://kramerius.cbvk.cz/uuid/uuid:ca426fc3-e...   \n",
      "118  https://kramerius.kr-olomoucky.cz/search/handl...   \n",
      "119  http://krameriusndk.mzk.cz/search/handle/uuid:...   \n",
      "120  http://krameriusndk.nkp.cz/search/handle/uuid:...   \n",
      "121  https://kramerius.kr-olomoucky.cz/search/handl...   \n",
      "\n",
      "                                domain  \\\n",
      "0           http://krameriusndk.nkp.cz   \n",
      "1           http://krameriusndk.nkp.cz   \n",
      "2           http://krameriusndk.nkp.cz   \n",
      "3           http://krameriusndk.mzk.cz   \n",
      "4           http://krameriusndk.nkp.cz   \n",
      "..                                 ...   \n",
      "117          https://kramerius.cbvk.cz   \n",
      "118  https://kramerius.kr-olomoucky.cz   \n",
      "119         http://krameriusndk.mzk.cz   \n",
      "120         http://krameriusndk.nkp.cz   \n",
      "121  https://kramerius.kr-olomoucky.cz   \n",
      "\n",
      "                                          uuid  Unnamed: 0_y  \\\n",
      "0    uuid:862b83d0-2811-11e2-9f39-005056827e51           235   \n",
      "1    uuid:e7e80d10-2fef-11e2-bd17-005056827e51           112   \n",
      "2    uuid:d15c20d0-276a-11e4-8413-5ef3fc9ae867            21   \n",
      "3    uuid:d15c20d0-276a-11e4-8413-5ef3fc9ae867            21   \n",
      "4    uuid:3a8fb1e0-147e-11e7-8a18-5ef3fc9ae867            12   \n",
      "..                                         ...           ...   \n",
      "117  uuid:ca426fc3-e0ec-4879-b7b0-3cee09e9557c            48   \n",
      "118  uuid:e63c640f-5ac2-11e4-93eb-90b11c419e63           744   \n",
      "119  uuid:b56c15a0-acbf-11e7-91d5-005056825209            15   \n",
      "120  uuid:cbe3ecd0-b9a4-11ec-a10a-005056827e51            24   \n",
      "121  uuid:9b2d0417-dc78-4856-9661-06bfad9e19e6           842   \n",
      "\n",
      "              title_y  frekvence               title issn_x     issn_y  \n",
      "0               Mosty        637                 NaN    NaN        NaN  \n",
      "1               Akord        709                 NaN    NaN        NaN  \n",
      "2              Reflex       4202                 NaN    NaN        NaN  \n",
      "3              Reflex       4202                 NaN    NaN        NaN  \n",
      "4    Literární noviny      10423                 NaN    NaN        NaN  \n",
      "..                ...        ...                 ...    ...        ...  \n",
      "117               NaN       2380          Nový život    NaN  1805-5508  \n",
      "118               NaN        144     Moravské noviny    NaN  0862-5395  \n",
      "119               NaN       5094  Hospodářské noviny    NaN  0862-9587  \n",
      "120               NaN       2974              Čtenář    NaN  0011-2321  \n",
      "121               NaN        468            Vyšehrad    NaN  2336-7172  \n",
      "\n",
      "[1328 rows x 13 columns]\n"
     ]
    }
   ],
   "source": [
    "print(df_merge) \n",
    "df_merge = df_merge.drop_duplicates(subset=['link'])"
   ]
  },
  {
   "cell_type": "code",
   "execution_count": 26,
   "metadata": {},
   "outputs": [],
   "source": [
    "df_merge.to_excel('data/merged_nk_clb2.xlsx')"
   ]
  }
 ],
 "metadata": {
  "kernelspec": {
   "display_name": "Python 3",
   "language": "python",
   "name": "python3"
  },
  "language_info": {
   "codemirror_mode": {
    "name": "ipython",
    "version": 3
   },
   "file_extension": ".py",
   "mimetype": "text/x-python",
   "name": "python",
   "nbconvert_exporter": "python",
   "pygments_lexer": "ipython3",
   "version": "2.7.undefined"
  }
 },
 "nbformat": 4,
 "nbformat_minor": 2
}
